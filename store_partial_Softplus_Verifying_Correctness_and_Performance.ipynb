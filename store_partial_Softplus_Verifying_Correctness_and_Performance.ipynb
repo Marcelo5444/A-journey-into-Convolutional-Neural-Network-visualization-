{
  "nbformat": 4,
  "nbformat_minor": 0,
  "metadata": {
    "colab": {
      "provenance": [],
      "gpuType": "T4",
      "include_colab_link": true
    },
    "kernelspec": {
      "name": "python3",
      "display_name": "Python 3"
    },
    "language_info": {
      "name": "python"
    },
    "accelerator": "GPU"
  },
  "cells": [
    {
      "cell_type": "markdown",
      "metadata": {
        "id": "view-in-github",
        "colab_type": "text"
      },
      "source": [
        "<a href=\"https://colab.research.google.com/github/Marcelo5444/A-journey-into-Convolutional-Neural-Network-visualization-/blob/master/store_partial_Softplus_Verifying_Correctness_and_Performance.ipynb\" target=\"_parent\"><img src=\"https://colab.research.google.com/assets/colab-badge.svg\" alt=\"Open In Colab\"/></a>"
      ]
    },
    {
      "cell_type": "markdown",
      "source": [
        "# RMSNorm: Verifying Correctness and Performance\n",
        "\n"
      ],
      "metadata": {
        "id": "kFQrribgv5xq"
      }
    },
    {
      "cell_type": "markdown",
      "source": [
        "Now that you have learned how to derive backpropagation for RMSNorm and the memory-saving tricks, the implementation itself is relatively straightforward. Therefore, we will focus on testing and use the existing implementation from Liger Kernel."
      ],
      "metadata": {
        "id": "v3pjJ62hwjkE"
      }
    },
    {
      "cell_type": "markdown",
      "source": [
        "### Ensure you are using GPU by running `nvidia-smi`"
      ],
      "metadata": {
        "id": "q0i_HCvn3Gl2"
      }
    },
    {
      "cell_type": "code",
      "source": [
        "!nvidia-smi"
      ],
      "metadata": {
        "id": "aGoZHw0g3LPu",
        "outputId": "11d7dc65-4708-4c76-d26b-2fa177c11e94",
        "colab": {
          "base_uri": "https://localhost:8080/"
        }
      },
      "execution_count": 1,
      "outputs": [
        {
          "output_type": "stream",
          "name": "stdout",
          "text": [
            "Sun Sep 29 15:00:10 2024       \n",
            "+---------------------------------------------------------------------------------------+\n",
            "| NVIDIA-SMI 535.104.05             Driver Version: 535.104.05   CUDA Version: 12.2     |\n",
            "|-----------------------------------------+----------------------+----------------------+\n",
            "| GPU  Name                 Persistence-M | Bus-Id        Disp.A | Volatile Uncorr. ECC |\n",
            "| Fan  Temp   Perf          Pwr:Usage/Cap |         Memory-Usage | GPU-Util  Compute M. |\n",
            "|                                         |                      |               MIG M. |\n",
            "|=========================================+======================+======================|\n",
            "|   0  Tesla T4                       Off | 00000000:00:04.0 Off |                    0 |\n",
            "| N/A   78C    P0              47W /  70W |      0MiB / 15360MiB |      0%      Default |\n",
            "|                                         |                      |                  N/A |\n",
            "+-----------------------------------------+----------------------+----------------------+\n",
            "                                                                                         \n",
            "+---------------------------------------------------------------------------------------+\n",
            "| Processes:                                                                            |\n",
            "|  GPU   GI   CI        PID   Type   Process name                            GPU Memory |\n",
            "|        ID   ID                                                             Usage      |\n",
            "|=======================================================================================|\n",
            "|  No running processes found                                                           |\n",
            "+---------------------------------------------------------------------------------------+\n"
          ]
        }
      ]
    },
    {
      "cell_type": "markdown",
      "source": [
        "### Install liger-kernel for RMSNorm implementation"
      ],
      "metadata": {
        "id": "EqDL-RcLwGdC"
      }
    },
    {
      "cell_type": "code",
      "execution_count": 2,
      "metadata": {
        "colab": {
          "base_uri": "https://localhost:8080/"
        },
        "id": "ZSDx2ULKeM4M",
        "outputId": "9b27e49f-5126-4e13-a625-6f6b0f40472b"
      },
      "outputs": [
        {
          "output_type": "stream",
          "name": "stdout",
          "text": [
            "Requirement already satisfied: liger-kernel in /usr/local/lib/python3.10/dist-packages (0.3.0)\n",
            "Requirement already satisfied: torch>=2.1.2 in /usr/local/lib/python3.10/dist-packages (from liger-kernel) (2.4.1+cu121)\n",
            "Requirement already satisfied: triton>=2.3.0 in /usr/local/lib/python3.10/dist-packages (from liger-kernel) (3.0.0)\n",
            "Requirement already satisfied: transformers>=4.42.0 in /usr/local/lib/python3.10/dist-packages (from liger-kernel) (4.44.2)\n",
            "Requirement already satisfied: filelock in /usr/local/lib/python3.10/dist-packages (from torch>=2.1.2->liger-kernel) (3.16.1)\n",
            "Requirement already satisfied: typing-extensions>=4.8.0 in /usr/local/lib/python3.10/dist-packages (from torch>=2.1.2->liger-kernel) (4.12.2)\n",
            "Requirement already satisfied: sympy in /usr/local/lib/python3.10/dist-packages (from torch>=2.1.2->liger-kernel) (1.13.3)\n",
            "Requirement already satisfied: networkx in /usr/local/lib/python3.10/dist-packages (from torch>=2.1.2->liger-kernel) (3.3)\n",
            "Requirement already satisfied: jinja2 in /usr/local/lib/python3.10/dist-packages (from torch>=2.1.2->liger-kernel) (3.1.4)\n",
            "Requirement already satisfied: fsspec in /usr/local/lib/python3.10/dist-packages (from torch>=2.1.2->liger-kernel) (2024.6.1)\n",
            "Requirement already satisfied: huggingface-hub<1.0,>=0.23.2 in /usr/local/lib/python3.10/dist-packages (from transformers>=4.42.0->liger-kernel) (0.24.7)\n",
            "Requirement already satisfied: numpy>=1.17 in /usr/local/lib/python3.10/dist-packages (from transformers>=4.42.0->liger-kernel) (1.26.4)\n",
            "Requirement already satisfied: packaging>=20.0 in /usr/local/lib/python3.10/dist-packages (from transformers>=4.42.0->liger-kernel) (24.1)\n",
            "Requirement already satisfied: pyyaml>=5.1 in /usr/local/lib/python3.10/dist-packages (from transformers>=4.42.0->liger-kernel) (6.0.2)\n",
            "Requirement already satisfied: regex!=2019.12.17 in /usr/local/lib/python3.10/dist-packages (from transformers>=4.42.0->liger-kernel) (2024.9.11)\n",
            "Requirement already satisfied: requests in /usr/local/lib/python3.10/dist-packages (from transformers>=4.42.0->liger-kernel) (2.32.3)\n",
            "Requirement already satisfied: safetensors>=0.4.1 in /usr/local/lib/python3.10/dist-packages (from transformers>=4.42.0->liger-kernel) (0.4.5)\n",
            "Requirement already satisfied: tokenizers<0.20,>=0.19 in /usr/local/lib/python3.10/dist-packages (from transformers>=4.42.0->liger-kernel) (0.19.1)\n",
            "Requirement already satisfied: tqdm>=4.27 in /usr/local/lib/python3.10/dist-packages (from transformers>=4.42.0->liger-kernel) (4.66.5)\n",
            "Requirement already satisfied: MarkupSafe>=2.0 in /usr/local/lib/python3.10/dist-packages (from jinja2->torch>=2.1.2->liger-kernel) (2.1.5)\n",
            "Requirement already satisfied: charset-normalizer<4,>=2 in /usr/local/lib/python3.10/dist-packages (from requests->transformers>=4.42.0->liger-kernel) (3.3.2)\n",
            "Requirement already satisfied: idna<4,>=2.5 in /usr/local/lib/python3.10/dist-packages (from requests->transformers>=4.42.0->liger-kernel) (3.10)\n",
            "Requirement already satisfied: urllib3<3,>=1.21.1 in /usr/local/lib/python3.10/dist-packages (from requests->transformers>=4.42.0->liger-kernel) (2.2.3)\n",
            "Requirement already satisfied: certifi>=2017.4.17 in /usr/local/lib/python3.10/dist-packages (from requests->transformers>=4.42.0->liger-kernel) (2024.8.30)\n",
            "Requirement already satisfied: mpmath<1.4,>=1.1.0 in /usr/local/lib/python3.10/dist-packages (from sympy->torch>=2.1.2->liger-kernel) (1.3.0)\n"
          ]
        }
      ],
      "source": [
        "!pip install liger-kernel"
      ]
    },
    {
      "cell_type": "markdown",
      "source": [
        "### Why Testing?\n",
        "\n",
        "Assuming we have a working version of RMSNorm, we cannot confidently deploy it to production without verifying the following:\n",
        "\n",
        "1. **Correctness:** Ensure that the kernel is as precise as the original implementation. Any deviation could impact model convergence or even cause critical errors.\n",
        "\n",
        "2. **Performance:** Confirm that the kernel is more time- and memory-efficient than the original version. Without these improvements, re-implementing in Triton would not be justified."
      ],
      "metadata": {
        "id": "Por8YN4tu6uR"
      }
    },
    {
      "cell_type": "markdown",
      "source": [
        "## Correctness Test\n",
        "\n",
        "Prepare a pure PyTorch implementation, such as the one provided by [HuggingFace](https://sourcegraph.com/github.com/huggingface/transformers/-/blob/src/transformers/models/llama/modeling_llama.py?L111).\n",
        "\n",
        "We want to test the implementation with different input shapes and data types. In addition to regular shapes like powers of 2, it's important to test irregular shapes to ensure proper handling of edge cases.\n",
        "\n",
        "Setting the tolerance can be tricky. Generally, for `fp32`, use `atol = 1e-7` and `rtol = 1e-5`. For `bf16`, use `atol = 1e-3` and `rtol = 1e-2`. However, in practice, the tolerance may need to be further relaxed in some cases, even when the kernel is exact.\n",
        "\n",
        "Later, we will discuss another testing method to validate that the kernel does not negatively impact end-to-end convergence."
      ],
      "metadata": {
        "id": "hCpGlSrCxPTA"
      }
    },
    {
      "cell_type": "code",
      "source": [
        "import torch\n",
        "import torch.nn as nn\n",
        "import triton.language as tl\n",
        "import triton\n",
        "from triton.language.extra.libdevice import exp, log1p\n",
        "# Copy from HuggingFace\n",
        "from liger_kernel.ops.utils import (\n",
        "    calculate_settings,\n",
        "    compare_version,\n",
        "    ensure_contiguous,\n",
        ")\n",
        "class LlamaRMSNorm(nn.Module):\n",
        "    def __init__(self, hidden_size, eps=1e-6):\n",
        "        \"\"\"\n",
        "        LlamaRMSNorm is equivalent to T5LayerNorm\n",
        "        \"\"\"\n",
        "        super().__init__()\n",
        "        self.weight = nn.Parameter(torch.ones(hidden_size))\n",
        "        self.variance_epsilon = eps\n",
        "\n",
        "    def forward(self, hidden_states):\n",
        "        input_dtype = hidden_states.dtype\n",
        "        hidden_states = hidden_states.to(torch.float32)\n",
        "        variance = hidden_states.pow(2).mean(-1, keepdim=True)\n",
        "        hidden_states = hidden_states * torch.rsqrt(variance + self.variance_epsilon)\n",
        "        return self.weight * hidden_states.to(input_dtype)\n",
        "\n",
        "\n",
        "class Softplus(nn.Module):\n",
        "    def __init__(self, eps=1e-6):\n",
        "        \"\"\"\n",
        "        LlamaRMSNorm is equivalent to T5LayerNorm\n",
        "        \"\"\"\n",
        "        super().__init__()\n",
        "        #self.weight = nn.Parameter(torch.ones(hidden_size))\n",
        "        #self.variance_epsilon = eps\n",
        "        self.softplus = nn.Softplus(beta=100)\n",
        "\n",
        "    def forward(self, x):\n",
        "        return self.softplus(x)\n",
        "@triton.jit\n",
        "def _softplus_forward_kernel(\n",
        "    a, exponiental_array, c, stride, n_cols: tl.constexpr, BLOCK_SIZE: tl.constexpr, threshold: tl.constexpr, alpha: tl.constexpr\n",
        "):\n",
        "    program_id = tl.program_id(0)\n",
        "\n",
        "    # locate start index\n",
        "    a += program_id * stride\n",
        "    exponiental_array += program_id * stride\n",
        "    c += program_id * stride\n",
        "\n",
        "    col_offsets = tl.arange(0, BLOCK_SIZE)\n",
        "    mask = col_offsets < n_cols\n",
        "    a_row = tl.load(a + col_offsets, mask=mask, other=0)\n",
        "\n",
        "    # tanh approximation form of GELU is computed with:\n",
        "    # 0.5 * a * (1 + tanh(sqrt(2 / pi) * (a + 0.044715 * a^3)))\n",
        "    # sqrt_2_over_pi = 0.7978845608028654  # sqrt(2 / pi)\n",
        "    # a_cubed = a_row * a_row * a_row\n",
        "    # tanh_arg = sqrt_2_over_pi * (a_row + 0.044715 * a_cubed)\n",
        "    # tanh_result = tanh(tanh_arg)\n",
        "    # geglu_a = 0.5 * a_row * (1 + tanh_result)\n",
        "    tmp2 = a_row#.to(tl.float32)\n",
        "    #tmp3 = tmp0 + tmp2\n",
        "    tmp4 = tmp2#.to(tl.float32)\n",
        "    tmp5 = 100\n",
        "    tmp6 = tmp4 * tmp5\n",
        "    tmp7 = 20.0\n",
        "    tmp8 = tmp6 > tmp7\n",
        "    tmp9 = exp(tmp6)\n",
        "    tl.store(exponiental_array + col_offsets, tmp9, mask=mask)\n",
        "    tmp10 = log1p(tmp9)\n",
        "    tmp11 = tmp10 / tmp5\n",
        "    tmp12 = tl.where(tmp8, tmp4, tmp11)\n",
        "\n",
        "    tl.store(c + col_offsets, tmp12, mask=mask)\n",
        "\n",
        "\n",
        "@triton.jit\n",
        "def _softplus_backward_kernel(\n",
        "    dc, a, exponential_array, stride, n_cols: tl.constexpr, BLOCK_SIZE: tl.constexpr\n",
        "):\n",
        "    program_id = tl.program_id(0).cast(tl.int64)\n",
        "\n",
        "    # locate start index\n",
        "    dc += program_id * stride\n",
        "    exponential_array += program_id * stride\n",
        "    a += program_id * stride\n",
        "\n",
        "    col_offsets = tl.arange(0, BLOCK_SIZE)\n",
        "    mask = col_offsets < n_cols\n",
        "\n",
        "    dc_row = tl.load(dc + col_offsets, mask=mask, other=0)\n",
        "    #a_row = tl.load(a + col_offsets, mask=mask, other=0)\n",
        "    exponential_array_row = tl.load(exponential_array + col_offsets, mask=mask, other=0)\n",
        "\n",
        "    # recomputation to save memory\n",
        "    #tmp1 = 1 / b_row\n",
        "    #da_row = 1 / tmp1 * (0.01)\n",
        "    tmp1 = dc_row / (1 + 1/exponential_array_row)\n",
        "    #tmp2 = tmp1 *\n",
        "\n",
        "    tl.store(a + col_offsets, tmp1, mask=mask)\n",
        "\n",
        "\n",
        "def softplus_forward(a):\n",
        "    ori_shape = a.shape\n",
        "\n",
        "    n_cols = ori_shape[-1]\n",
        "    a = a.view(-1, n_cols)\n",
        "    exponential_array = torch.empty_like(a)\n",
        "    c = torch.empty_like(a)\n",
        "    n_rows = a.shape[0]\n",
        "\n",
        "    BLOCK_SIZE, num_warps = calculate_settings(n_cols)\n",
        "\n",
        "    _softplus_forward_kernel[(n_rows,)](\n",
        "        a,\n",
        "        exponential_array,\n",
        "        c,\n",
        "        c.stride(-2),\n",
        "        n_cols=n_cols,\n",
        "        BLOCK_SIZE=BLOCK_SIZE,\n",
        "        num_warps=num_warps,\n",
        "        threshold=None,\n",
        "        alpha=None\n",
        "    )\n",
        "    return a, exponential_array, c.view(*ori_shape)\n",
        "\n",
        "\n",
        "def softplus_backward(a, exponential_array, dc):\n",
        "    ori_shape = dc.shape\n",
        "    n_cols = ori_shape[-1]\n",
        "    dc = dc.view(-1, n_cols)\n",
        "    n_rows = dc.shape[0]\n",
        "\n",
        "    BLOCK_SIZE, num_warps = calculate_settings(n_cols)\n",
        "\n",
        "    _softplus_backward_kernel[(n_rows,)](\n",
        "        dc,\n",
        "        a,\n",
        "        exponential_array,\n",
        "        dc.stride(-2),\n",
        "        n_cols=n_cols,\n",
        "        BLOCK_SIZE=BLOCK_SIZE,\n",
        "        num_warps=num_warps\n",
        "    )\n",
        "\n",
        "    return a.view(*ori_shape)\n",
        "\n",
        "\n",
        "class LigerSoftPlusFunction(torch.autograd.Function):\n",
        "    @staticmethod\n",
        "    @ensure_contiguous\n",
        "    def forward(ctx, a):\n",
        "        a, exponential_array, c = softplus_forward(a)\n",
        "        ctx.save_for_backward(a, exponential_array)\n",
        "        return c\n",
        "\n",
        "    @staticmethod\n",
        "    @ensure_contiguous\n",
        "    def backward(ctx, dc):\n",
        "        a, exponential_array = ctx.saved_tensors\n",
        "        a = softplus_backward(a, exponential_array, dc)\n",
        "        return a\n",
        "\n",
        "\n",
        "\n",
        "class LigerSoftPlus(nn.Module):\n",
        "    def __init__(self):\n",
        "        super().__init__()\n",
        "    def forward(self, x):\n",
        "        return LigerSoftPlusFunction.apply(x)"
      ],
      "metadata": {
        "id": "h8xBYKgseQYH"
      },
      "execution_count": 3,
      "outputs": []
    },
    {
      "cell_type": "code",
      "source": [
        "import torch\n",
        "from liger_kernel.transformers.rms_norm import LigerRMSNorm\n",
        "\n",
        "\n",
        "input_data = [\n",
        "    (4, 16, 32, torch.float32, 1e-6, 1e-4),\n",
        "    (8, 32, 64, torch.float32, 1e-6, 1e-4),\n",
        "    (16, 512, 512, torch.float32, 1e-6, 1e-4),\n",
        "    (16, 512, 512, torch.float32, 1e-6, 1e-4),\n",
        "    # T4 GPU doesn't support bf16 :(\n",
        "    # (16, 64, 128, torch.bfloat32, 1e-3, 1e-2),\n",
        "]\n",
        "\n",
        "for bs, sl, hd, dtype, atol, rtol in input_data:\n",
        "    # h\n",
        "    _tensor = torch.randn(bs, sl, hd, device=\"cuda\", dtype=dtype)\n",
        "\n",
        "    h1 = _tensor.clone().requires_grad_(True)\n",
        "    h2 = _tensor.clone().requires_grad_(True)\n",
        "\n",
        "    # do\n",
        "    do = torch.randn(bs, sl, hd, device=\"cuda\", dtype=dtype)\n",
        "\n",
        "    # llama\n",
        "    softplus_pytorch = Softplus().to(\"cuda\").to(dtype)\n",
        "    softplus_pytorch_o = softplus_pytorch(h1)\n",
        "    softplus_pytorch_o.backward(do.clone(), retain_graph=True)\n",
        "\n",
        "    # triton/\n",
        "    softplus_triton = LigerSoftPlus().to(\"cuda\").to(dtype)\n",
        "    triton_o = softplus_triton(h2)\n",
        "    triton_o.backward(do.clone(), retain_graph=True)\n",
        "\n",
        "    assert torch.allclose(softplus_pytorch_o, triton_o, atol=atol, rtol=rtol) is True\n",
        "    assert torch.allclose(h1.grad, h2.grad, atol=atol, rtol=rtol) is True\n",
        "\n",
        "    # print(h1.grad, h2.grad)\n",
        "    #assert torch.allclose(h1.grad, h2.grad, atol=atol, rtol=rtol) is True"
      ],
      "metadata": {
        "id": "kbCYER6SenjM"
      },
      "execution_count": 4,
      "outputs": []
    },
    {
      "cell_type": "code",
      "source": [
        "h1.grad.sum(), h2.grad.sum()"
      ],
      "metadata": {
        "colab": {
          "base_uri": "https://localhost:8080/"
        },
        "id": "cU5Pvhar_-xc",
        "outputId": "37364dcf-76b4-4080-d84a-36d043485da2"
      },
      "execution_count": 5,
      "outputs": [
        {
          "output_type": "execute_result",
          "data": {
            "text/plain": [
              "(tensor(500.9196, device='cuda:0'), tensor(500.9193, device='cuda:0'))"
            ]
          },
          "metadata": {},
          "execution_count": 5
        }
      ]
    },
    {
      "cell_type": "markdown",
      "source": [
        "### Performance Test\n",
        "\n",
        "There are two dimensions we want to test: Speed and Memory. But what input shape should I use to test? You can use the actual input shape from your training for testing. For example, when fine-tuning the LLaMA 3-8B model, we usually use a batch size of 4 and a hidden size of 2048. We make the sequence length a variant.\n",
        "\n",
        "\n",
        "This way, the test results will reflect the actual gains we can expect to see in production training."
      ],
      "metadata": {
        "id": "KZTD9ubNy0My"
      }
    },
    {
      "cell_type": "code",
      "source": [
        "import os\n",
        "\n",
        "import torch\n",
        "import torch.nn as nn\n",
        "import triton\n",
        "\n",
        "\n",
        "@triton.testing.perf_report(\n",
        "    [\n",
        "        triton.testing.Benchmark(\n",
        "            x_names=[\"seq_len\"],\n",
        "            x_vals=[2**i for i in range(10, 15)], # 256, 512, 1024\n",
        "            xlabel=\"seq len\",\n",
        "            line_arg=\"provider\",\n",
        "            line_vals=[\"triton_kernel\", \"Pytorch\"],\n",
        "            line_names=[\"triton_kernel\", \"Pytorch\"],\n",
        "            styles=[(\"blue\", \"solid\"), (\"orange\", \"solid\")],\n",
        "            ylabel=\"time (ms)\",\n",
        "            plot_name=\"softplus-full-speed-benchmark\",\n",
        "            args={\"batch_size\": 8, \"hidden_size\": 2048, \"dtype\": torch.float32, \"mode\": \"full\"},\n",
        "        ),\n",
        "    ]\n",
        ")\n",
        "def bench_speed_rms_norm(batch_size, seq_len, hidden_size, dtype, provider, mode, eps=1e-5, device=\"cuda\"):\n",
        "    x_shape = (batch_size, seq_len, hidden_size)\n",
        "\n",
        "    triton_softplus = LigerSoftPlus().to(\"cuda\")\n",
        "    pytorch_softplus = Softplus().to(\"cuda\")\n",
        "\n",
        "    x = torch.randn(x_shape, dtype=dtype, device=\"cuda\")\n",
        "    dy = torch.randn_like(x, requires_grad=True)\n",
        "    x.requires_grad_(True)\n",
        "    #print(x.requires_grad)\n",
        "\n",
        "    #x = x.view(batch_size * seq_len, hidden_size)\n",
        "    #dy = dy.view(batch_size * seq_len, hidden_size)\n",
        "\n",
        "    quantiles = [0.5, 0.2, 0.8]\n",
        "\n",
        "\n",
        "    def full():\n",
        "        if provider == \"triton_kernel\":\n",
        "            y = triton_softplus(x)\n",
        "        elif provider == \"Pytorch\":\n",
        "            y = pytorch_softplus(x)\n",
        "\n",
        "        y.backward(dy, retain_graph=True)\n",
        "\n",
        "    ms, min_ms, max_ms = triton.testing.do_bench(\n",
        "        full, quantiles=quantiles, grad_to_none=[x], rep=100\n",
        "    )\n",
        "\n",
        "    return ms, max_ms, min_ms\n",
        "\n",
        "\n",
        "bench_speed_rms_norm.run(show_plots=True, print_data=True)\n"
      ],
      "metadata": {
        "id": "136ptRdSfEGd",
        "colab": {
          "base_uri": "https://localhost:8080/",
          "height": 574
        },
        "outputId": "356cf1a0-82dd-4472-c3bf-eb635e333e3f"
      },
      "execution_count": 6,
      "outputs": [
        {
          "output_type": "display_data",
          "data": {
            "text/plain": [
              "<Figure size 640x480 with 1 Axes>"
            ],
            "image/png": "[encoded data removed]"
          },
          "metadata": {}
        },
        {
          "output_type": "stream",
          "name": "stdout",
          "text": [
            "softplus-full-speed-benchmark:\n",
            "   seq_len  triton_kernel    Pytorch\n",
            "0   1024.0       1.742528   2.308608\n",
            "1   2048.0       3.444000   2.989856\n",
            "2   4096.0       6.959904   6.104032\n",
            "3   8192.0      13.947232  13.082656\n",
            "4  16384.0      27.831295  25.692225\n"
          ]
        }
      ]
    },
    {
      "cell_type": "code",
      "source": [
        "def test_memory(func, _iter):\n",
        "    total_mem = []\n",
        "\n",
        "    for _ in range(_iter):\n",
        "        torch.cuda.memory.reset_peak_memory_stats()\n",
        "        func()\n",
        "        mem = torch.cuda.max_memory_allocated() / (2**20)\n",
        "        total_mem.append(mem)\n",
        "\n",
        "    return sum(total_mem) / len(total_mem)\n",
        "\n",
        "@triton.testing.perf_report(\n",
        "    [\n",
        "        triton.testing.Benchmark(\n",
        "            x_names=[\"seq_len\"],\n",
        "            x_vals=[2**i for i in range(8, 11)], # 256, 512, 1024\n",
        "            xlabel=\"seq len\",\n",
        "            line_arg=\"provider\",\n",
        "            line_vals=[\"liger\", \"huggingface\"],\n",
        "            line_names=[\"Liger\", \"Hugging Face\"],\n",
        "            styles=[(\"blue\", \"solid\"), (\"orange\", \"solid\")],\n",
        "            ylabel=\"Memory (MB)\",\n",
        "            plot_name=\"rmsnorm-full-memory-benchmark\",\n",
        "            args={\"batch_size\": 4, \"hidden_size\": 2048, \"dtype\": torch.float32, \"mode\": \"full\"},\n",
        "        ),\n",
        "    ]\n",
        ")\n",
        "def bench_memory_rms_norm(batch_size, seq_len, hidden_size, dtype, provider, mode, eps=1e-5, device=\"cuda\"):\n",
        "    x_shape = (batch_size, seq_len, hidden_size)\n",
        "\n",
        "    triton_rms = LigerSoftPlus().to(\"cuda\")\n",
        "    llama_rms = Softplus().to(\"cuda\")\n",
        "\n",
        "    x = torch.randn(x_shape, dtype=dtype, device=\"cuda\")\n",
        "    dy = torch.randn_like(x)\n",
        "    x.requires_grad_(True)\n",
        "\n",
        "    x = x.view(batch_size * seq_len, hidden_size)\n",
        "    dy = dy.view(batch_size * seq_len, hidden_size)\n",
        "\n",
        "    quantiles = [0.5, 0.2, 0.8]\n",
        "\n",
        "\n",
        "    def full():\n",
        "        if provider == \"liger\":\n",
        "            y = triton_rms(x)\n",
        "        elif provider == \"huggingface\":\n",
        "            y = llama_rms(x)\n",
        "\n",
        "        y.backward(dy, retain_graph=True)\n",
        "\n",
        "    mem = test_memory(full, 10)\n",
        "\n",
        "    return mem\n",
        "\n",
        "bench_memory_rms_norm.run(show_plots=True, print_data=True)"
      ],
      "metadata": {
        "id": "OVYwztnE-NQM",
        "colab": {
          "base_uri": "https://localhost:8080/",
          "height": 538
        },
        "outputId": "e2c70f8d-c6ad-4d0d-8d77-5a5b3a8a0b6e"
      },
      "execution_count": 7,
      "outputs": [
        {
          "output_type": "display_data",
          "data": {
            "text/plain": [
              "<Figure size 640x480 with 1 Axes>"
            ],
            "image/png": "[encoded data removed]"
          },
          "metadata": {}
        },
        {
          "output_type": "stream",
          "name": "stdout",
          "text": [
            "rmsnorm-full-memory-benchmark:\n",
            "   seq_len       Liger  Hugging Face\n",
            "0    256.0  166.400977    167.200977\n",
            "1    512.0  204.800977    206.400977\n",
            "2   1024.0  281.600977    284.800977\n"
          ]
        }
      ]
    },
    {
      "cell_type": "code",
      "source": [],
      "metadata": {
        "id": "BCDZTf75G-8l"
      },
      "execution_count": 7,
      "outputs": []
    }
  ]
}